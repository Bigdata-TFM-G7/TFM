{
 "cells": [
  {
   "cell_type": "markdown",
   "metadata": {},
   "source": [
    "# Instrucciones condicionales\n",
    "\n",
    "<hr>\n",
    "\n",
    "Las instrucciones condicionales permiten elegir una entre dos vías para resolver un problema, según sea el resultado de evaluar un predicado.\n",
    "\n",
    "    Si predicado_se_cumple:\n",
    "        hacer esto\n",
    "    si no:\n",
    "        hacer lo otro\n",
    "\n",
    "Por ejemplo, para saber si alguien aprueba o no, basta con ver si la nota es un cinco, al menos:\n",
    "\n",
    "    Si \"la nota es un cinco al menos\":\n",
    "        la respuesta es que sí, que el estudiante aprueba\n",
    "    si no:\n",
    "        la respuesta es negativa, pues el estudiante no aprueba\n",
    "\n",
    "La respuesta a la pregunta de si \"la nota es un cinco al menos\" a un sí o un no, esto es, True o False, que son los valores booleanos. En la instrucción condicional, siempre hay una expresión booleana que gobierna cuál es la instrucción que se realiza."
   ]
  },
  {
   "cell_type": "markdown",
   "metadata": {},
   "source": [
    "## Instrucción condicional completa\n",
    "\n",
    "Lo anterior se puede poner en Python así:"
   ]
  },
  {
   "cell_type": "code",
   "execution_count": 1,
   "metadata": {},
   "outputs": [
    {
     "data": {
      "text/plain": [
       "(False, True, True, True, False)"
      ]
     },
     "execution_count": 1,
     "metadata": {},
     "output_type": "execute_result"
    }
   ],
   "source": [
    "def aprobado(nota):\n",
    "    if nota >= 5.0:\n",
    "        return True\n",
    "    else:\n",
    "        return False\n",
    "\n",
    "aprobado(3.0), aprobado(7.5), aprobado(5.0), aprobado(10.0), aprobado(4.999) "
   ]
  },
  {
   "cell_type": "markdown",
   "metadata": {},
   "source": [
    "La función anterior está pobremente documentada, y queremos progresar tan rápido que a menudo omitimos la documentación. Hela aquí de nuevo con una documentación más completa:"
   ]
  },
  {
   "cell_type": "code",
   "execution_count": 2,
   "metadata": {},
   "outputs": [
    {
     "data": {
      "text/plain": [
       "(False, True, True, True, False)"
      ]
     },
     "execution_count": 2,
     "metadata": {},
     "output_type": "execute_result"
    }
   ],
   "source": [
    "def aprobado(nota):\n",
    "    \"\"\"\n",
    "    Averigua si una nota numérica es suficiente para aprobar o no\n",
    "    \n",
    "    Parameters\n",
    "    ----------\n",
    "    nota : float\n",
    "        La nota numérica\n",
    "    \n",
    "    Returns\n",
    "    -------\n",
    "    bool \n",
    "        True, si la nota es suficiente para aprobar\n",
    "        False, si la nota no lo es\n",
    "        \n",
    "    Precondition\n",
    "    ------------\n",
    "    nota >= 0 and nota <= 10\n",
    "    \"\"\"\n",
    "    if nota >= 5.0:\n",
    "        return True\n",
    "    else:\n",
    "        return False\n",
    "\n",
    "aprobado(3.0), aprobado(7.5), aprobado(5.0), aprobado(10.0), aprobado(4.999) "
   ]
  },
  {
   "cell_type": "markdown",
   "metadata": {},
   "source": [
    "## Instrucción condicional incompleta\n",
    "\n",
    "La rama \"else\" no siempre es necesaria:"
   ]
  },
  {
   "cell_type": "code",
   "execution_count": 3,
   "metadata": {},
   "outputs": [
    {
     "data": {
      "text/plain": [
       "(10, 10)"
      ]
     },
     "execution_count": 3,
     "metadata": {},
     "output_type": "execute_result"
    }
   ],
   "source": [
    "def valor_absoluto(x):\n",
    "    if x < 0:\n",
    "      # cambio de signo del dato de entrada\n",
    "      x = -x\n",
    "    return x\n",
    "\n",
    "valor_absoluto(10), valor_absoluto(-10)"
   ]
  },
  {
   "cell_type": "markdown",
   "metadata": {},
   "source": [
    "Seguro que puedes proponer tú una documentación más completa de la función anterior.\n",
    "En este caso, podríamos haber usado también la instrucción condicional completa:"
   ]
  },
  {
   "cell_type": "code",
   "execution_count": 4,
   "metadata": {},
   "outputs": [
    {
     "name": "stdout",
     "output_type": "stream",
     "text": [
      "10 10\n",
      "7 7\n"
     ]
    }
   ],
   "source": [
    "def valor_absoluto(x):\n",
    "    if x < 0:\n",
    "        return -x\n",
    "    else:\n",
    "        return x\n",
    "    \n",
    "print(valor_absoluto(10), valor_absoluto(-10))\n",
    "\n",
    "# La misma función con su documentación completa:\n",
    "\n",
    "def valor_absoluto(x):\n",
    "    \"\"\"\n",
    "    Devuelve el valor absoluco de un número, real\n",
    "    \n",
    "    Parameters\n",
    "    ----------\n",
    "    x : float\n",
    "    \n",
    "    Returns\n",
    "    -------\n",
    "    float\n",
    "        El valor absoluto de x\n",
    "    \"\"\"\n",
    "    if x < 0:\n",
    "        return -x\n",
    "    else:\n",
    "        return x\n",
    "\n",
    "print(valor_absoluto(7), valor_absoluto(-7))"
   ]
  },
  {
   "cell_type": "markdown",
   "metadata": {},
   "source": [
    "Otro ejemplo:"
   ]
  },
  {
   "cell_type": "code",
   "execution_count": 5,
   "metadata": {},
   "outputs": [
    {
     "name": "stdout",
     "output_type": "stream",
     "text": [
      "(3, 2) (3, 2)\n"
     ]
    }
   ],
   "source": [
    "def max_min(x, y):\n",
    "    if x < y :\n",
    "        max = y\n",
    "        min = x\n",
    "    else:\n",
    "        max = x\n",
    "        min = y\n",
    "    return max, min\n",
    "\n",
    "print(max_min(2, 3), max_min(3, 2))"
   ]
  },
  {
   "cell_type": "markdown",
   "metadata": {},
   "source": [
    "## Podemos anidar condicionales"
   ]
  },
  {
   "cell_type": "code",
   "execution_count": 6,
   "metadata": {},
   "outputs": [
    {
     "data": {
      "text/plain": [
       "(2, 1, 2, 0, 0)"
      ]
     },
     "execution_count": 6,
     "metadata": {},
     "output_type": "execute_result"
    }
   ],
   "source": [
    "def grado_poli(a, b, c):\n",
    "    \"\"\"\n",
    "    Devuelve el grado del polinomio a*x^2 + b*x + c\n",
    "    \n",
    "    Parameters\n",
    "    ----------\n",
    "    a, b, c : float\n",
    "        Coeficientes del polinomio\n",
    "    \n",
    "    Returns\n",
    "    -------\n",
    "    int \n",
    "        Grado del polinomio \n",
    "    \"\"\"\n",
    "    if a == 0:\n",
    "        if b == 0:\n",
    "            grado = 0\n",
    "        else:\n",
    "            grado = 1\n",
    "    else:\n",
    "        grado = 2\n",
    "    return grado\n",
    "\n",
    "grado_poli(2, 3, 4), grado_poli(0, 1, 2), grado_poli(1, 0, 0), grado_poli(0, 0, 1), grado_poli(0, 0, 0)"
   ]
  },
  {
   "cell_type": "markdown",
   "metadata": {},
   "source": [
    "## Elecciones múltiples"
   ]
  },
  {
   "cell_type": "code",
   "execution_count": 7,
   "metadata": {},
   "outputs": [
    {
     "data": {
      "text/plain": [
       "('Sobresaliente', 'Suspenso', 'Suspenso', 'Suspenso', 'Notable', 'Aprobado')"
      ]
     },
     "execution_count": 7,
     "metadata": {},
     "output_type": "execute_result"
    }
   ],
   "source": [
    "def calificacion(num_nota):\n",
    "    \"\"\"\n",
    "    Converierte una calificación numérica en su denominación\n",
    "    \n",
    "    Parameters\n",
    "    ----------\n",
    "    num_nota : float\n",
    "        la nota numérica\n",
    "    \n",
    "    Returns\n",
    "    -------\n",
    "    str \n",
    "        la denominación de la calificación\n",
    "        \n",
    "    Precondition\n",
    "    ------------\n",
    "    num_nota >= 0 and num_nota <= 10\n",
    "    \"\"\"\n",
    "    if num_nota < 5:\n",
    "        return \"Suspenso\"\n",
    "    elif num_nota < 7:\n",
    "        return \"Aprobado\"\n",
    "    elif num_nota < 9:\n",
    "        return \"Notable\"\n",
    "    else:\n",
    "        return \"Sobresaliente\"\n",
    "    \n",
    "calificacion(10), calificacion(1.23), calificacion(3.45), calificacion(4.999), calificacion(7), calificacion(5)"
   ]
  },
  {
   "cell_type": "markdown",
   "metadata": {},
   "source": [
    "## Otro ejemplo más complicado "
   ]
  },
  {
   "cell_type": "code",
   "execution_count": 8,
   "metadata": {},
   "outputs": [
    {
     "name": "stdout",
     "output_type": "stream",
     "text": [
      "(1.0, 1.0)\n",
      "(1.0, 2.0)\n"
     ]
    }
   ],
   "source": [
    "def resuelve_sistema_lineal(a, b, c, d, e, f):\n",
    "    \"\"\"\n",
    "    Resuelve el sistema de ecuaciones lineales siguiente:\n",
    "         a*x + b*y = e\n",
    "         c*x + d*y = f\n",
    "    \n",
    "    Parameters\n",
    "    ----------\n",
    "    a, b, c, d, e, f : float\n",
    "        Coeficientes de las ecuaciones\n",
    "    \n",
    "    Returns\n",
    "    -------\n",
    "    (float, float)\n",
    "        Par de valores (x, y) que verifican ese sistema de ecuaciones\n",
    "    \n",
    "    Precondition\n",
    "    ------------\n",
    "      a*d - b*c != 0\n",
    "    \"\"\"\n",
    "    if a == 0:\n",
    "        y = e / b\n",
    "        x = (f - d*y) / c\n",
    "    else:\n",
    "        y = (a*f - c*e)/(a*d - c*b)\n",
    "        x = (e - b*y) / a \n",
    "    return x, y\n",
    "\n",
    "print(resuelve_sistema_lineal(1.0, 1.0, 0.0, 1.0, 2.0, 1.0))\n",
    "print(resuelve_sistema_lineal(7.0, 2.0, 5.0, -1.0, 11.0, 3.0))"
   ]
  },
  {
   "cell_type": "markdown",
   "metadata": {},
   "source": [
    "## Errores comunes\n",
    "\n",
    "No cubrir todos los casos posibles."
   ]
  },
  {
   "cell_type": "code",
   "execution_count": 9,
   "metadata": {},
   "outputs": [
    {
     "data": {
      "text/plain": [
       "False"
      ]
     },
     "execution_count": 9,
     "metadata": {},
     "output_type": "execute_result"
    }
   ],
   "source": [
    "def val_absoluto_mal(x):\n",
    "    if x < 0:\n",
    "        return -x\n",
    "    if x > 0:\n",
    "        return x\n",
    "    \n",
    "val_absoluto_mal(0) == 0"
   ]
  },
  {
   "cell_type": "markdown",
   "metadata": {},
   "source": [
    "Por tanto, es preferible, para las elecciones múltiples, usar \"if .... elif ... elif ... else\""
   ]
  },
  {
   "cell_type": "markdown",
   "metadata": {},
   "source": [
    "## Referencias\n",
    "\n",
    "He aquí nuestra referencia, tomada de w3shhols:\n",
    "\n",
    "    https://www.w3schools.com/python/python_conditions.asp"
   ]
  }
 ],
 "metadata": {
  "kernelspec": {
   "display_name": "Python 3",
   "language": "python",
   "name": "python3"
  },
  "language_info": {
   "codemirror_mode": {
    "name": "ipython",
    "version": 3
   },
   "file_extension": ".py",
   "mimetype": "text/x-python",
   "name": "python",
   "nbconvert_exporter": "python",
   "pygments_lexer": "ipython3",
   "version": "3.7.3"
  }
 },
 "nbformat": 4,
 "nbformat_minor": 1
}
